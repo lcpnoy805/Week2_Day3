{
 "cells": [
  {
   "cell_type": "markdown",
   "metadata": {},
   "source": [
    "# Data Collections 2 (Dictionaries, Sets) and Importing Modules"
   ]
  },
  {
   "cell_type": "markdown",
   "metadata": {},
   "source": [
    "## Tasks Today:\n",
    "\n",
    "1) Dictionary <br>\n",
    " &nbsp;&nbsp;&nbsp;&nbsp; a) Declaring (key, value) <br>\n",
    " &nbsp;&nbsp;&nbsp;&nbsp; b) Accessing Values <br>\n",
    " &nbsp;&nbsp;&nbsp;&nbsp; ------ Exercise #1 - Print the eye color of each person in a double nested dict <br>\n",
    " &nbsp;&nbsp;&nbsp;&nbsp; c) Adding New Pairs <br>\n",
    " &nbsp;&nbsp;&nbsp;&nbsp; d) Modifying Values <br>\n",
    " &nbsp;&nbsp;&nbsp;&nbsp; e) Removing Key, Value Pairs <br>\n",
    " &nbsp;&nbsp;&nbsp;&nbsp; f) Looping a Dictionary <br>\n",
    " &nbsp;&nbsp;&nbsp;&nbsp; g) Looping Only Keys <br>\n",
    " &nbsp;&nbsp;&nbsp;&nbsp; h) Looping Only Values <br>\n",
    " &nbsp;&nbsp;&nbsp;&nbsp; ------ Exercise #2 - Create a Function that Prints All Key Value Pairs within a print .format()  <br>\n",
    " &nbsp;&nbsp;&nbsp;&nbsp; i) sorted() <br>\n",
    " &nbsp;&nbsp;&nbsp;&nbsp; j) Lists with Dictionaries <br>\n",
    " &nbsp;&nbsp;&nbsp;&nbsp; k) Dictionaries with Lists <br>\n",
    " &nbsp;&nbsp;&nbsp;&nbsp; l) Dictionaries with Dictionaries <br>\n",
    " &nbsp;&nbsp;&nbsp;&nbsp; ------ Exercise #3 - Write a Function that asks someone's name and address, and then stores that into a dictionary, which prints all names and addresses after they're done putting information in...  <br>\n",
    "2) Dictionaries vs. Lists (over time)<br>\n",
    "3) Set <br>\n",
    " &nbsp;&nbsp;&nbsp;&nbsp; a) Declaring <br>\n",
    " &nbsp;&nbsp;&nbsp;&nbsp; b) .add() <br>\n",
    " &nbsp;&nbsp;&nbsp;&nbsp; c) .remove() <br>\n",
    " &nbsp;&nbsp;&nbsp;&nbsp; d) .union() <br>\n",
    " &nbsp;&nbsp;&nbsp;&nbsp; e) .intersection() <br>\n",
    " &nbsp;&nbsp;&nbsp;&nbsp; f) .difference() <br>\n",
    " &nbsp;&nbsp;&nbsp;&nbsp; g) Frozen Set <br>\n",
    "4) Modules <br>\n",
    " &nbsp;&nbsp;&nbsp;&nbsp; a) Importing Entire Modules <br>\n",
    " &nbsp;&nbsp;&nbsp;&nbsp; b) Importing Methods Only <br>\n",
    " &nbsp;&nbsp;&nbsp;&nbsp; c) Using the 'as' Keyword <br>\n",
    " &nbsp;&nbsp;&nbsp;&nbsp; d) Creating a Module <br>\n",
    "5) Exercises <br>\n",
    " &nbsp;&nbsp;&nbsp;&nbsp; a) Build a Shopping Cart <br>\n",
    " &nbsp;&nbsp;&nbsp;&nbsp; b) Create Your Own Module <br>"
   ]
  },
  {
   "cell_type": "markdown",
   "metadata": {},
   "source": [
    "## Dictionary <br>\n",
    "<p>A collection of data with 'key:value' pairs. Dictionaries are ordered as of Python 3.6</p>"
   ]
  },
  {
   "cell_type": "markdown",
   "metadata": {},
   "source": [
    "##### Declaring (key, value)"
   ]
  },
  {
   "cell_type": "code",
   "execution_count": 1,
   "metadata": {},
   "outputs": [
    {
     "name": "stdout",
     "output_type": "stream",
     "text": [
      "<class 'dict'> {}\n",
      "<class 'dict'> {}\n",
      "{'dave': '123 Main St', 'billy': '543 Locust', 1: 'this is the value for 1!', 'name': 'Brandt', 2: True, 3: {'skills_learned': ['html', 'css', 'python']}}\n"
     ]
    }
   ],
   "source": [
    "# Keys HAVE to be unique!  Values. . .whatever\n",
    "d_1 = {}\n",
    "print(type(d_1), d_1)\n",
    "\n",
    "d_2 = dict()\n",
    "print(type(d_2), d_2)\n",
    "\n",
    "d_3 = {\n",
    "    'dave': '123 Main St',\n",
    "    'billy' : '543 Locust',\n",
    "    1 : 'this is the value for 1!',\n",
    "    'name': 'Brandt',\n",
    "    2: True,\n",
    "    3 : {'skills_learned':['html', 'css', 'python']}\n",
    "}\n",
    "\n",
    "print(d_3)"
   ]
  },
  {
   "cell_type": "markdown",
   "metadata": {},
   "source": [
    "##### Accessing Values"
   ]
  },
  {
   "cell_type": "code",
   "execution_count": 2,
   "metadata": {},
   "outputs": [
    {
     "name": "stdout",
     "output_type": "stream",
     "text": [
      "123 Main St\n",
      "True\n",
      "{'skills_learned': ['html', 'css', 'python']}\n",
      "['html', 'css', 'python']\n",
      "css\n"
     ]
    }
   ],
   "source": [
    "print(d_3['dave'])\n",
    "print(d_3[2])\n",
    "print(d_3[3])\n",
    "print(d_3[3]['skills_learned'])\n",
    "print(d_3[3]['skills_learned'][1])"
   ]
  },
  {
   "cell_type": "markdown",
   "metadata": {},
   "source": [
    "## In-Class Exercise #1 - Print a formatted statement from the dictionary below <br>\n",
    "<p>The output should be '2018 Chevrolet Silverado'</p>"
   ]
  },
  {
   "cell_type": "code",
   "execution_count": 7,
   "metadata": {},
   "outputs": [
    {
     "name": "stdout",
     "output_type": "stream",
     "text": [
      "2018 Chevrolet Silverado\n",
      "2018 Chevrolet Silverado\n"
     ]
    }
   ],
   "source": [
    "# use the dict below\n",
    "truck = {\n",
    "    'year': 2018,\n",
    "    'make': 'Chevrolet',\n",
    "    'model': 'Silverado'\n",
    "}\n",
    "\n",
    "print(f\"{truck['year']} {truck['make']} {truck['model']}\")\n",
    "print(truck['year'], truck['make'], truck['model'])"
   ]
  },
  {
   "cell_type": "markdown",
   "metadata": {},
   "source": [
    "##### Adding New Pairs"
   ]
  },
  {
   "cell_type": "code",
   "execution_count": 8,
   "metadata": {},
   "outputs": [
    {
     "name": "stdout",
     "output_type": "stream",
     "text": [
      "{'year': 2018, 'make': 'Chevrolet', 'model': 'Silverado', 'color': 'Blue'}\n"
     ]
    }
   ],
   "source": [
    "# dict[key] = value\n",
    "\n",
    "truck['color'] = 'Blue'\n",
    "\n",
    "print(truck)"
   ]
  },
  {
   "cell_type": "markdown",
   "metadata": {},
   "source": [
    "##### Modifying Values"
   ]
  },
  {
   "cell_type": "code",
   "execution_count": 9,
   "metadata": {},
   "outputs": [
    {
     "name": "stdout",
     "output_type": "stream",
     "text": [
      "{'year': 2018, 'make': 'Chevrolet', 'model': 'Silverado', 'color': 'Brown'}\n"
     ]
    }
   ],
   "source": [
    "# To change a value:\n",
    "#     Same thing!!!\n",
    "\n",
    "truck['color'] = 'Brown'\n",
    "\n",
    "print(truck)"
   ]
  },
  {
   "cell_type": "markdown",
   "metadata": {},
   "source": [
    "##### Removing Key, Value Pairs"
   ]
  },
  {
   "cell_type": "code",
   "execution_count": 10,
   "metadata": {},
   "outputs": [
    {
     "name": "stdout",
     "output_type": "stream",
     "text": [
      "{'year': 2018, 'make': 'Chevrolet', 'model': 'Silverado'}\n"
     ]
    }
   ],
   "source": [
    "# del dict[key]\n",
    "# .pop()\n",
    "\n",
    "del truck['color']\n",
    "\n",
    "print(truck)"
   ]
  },
  {
   "cell_type": "markdown",
   "metadata": {},
   "source": [
    "##### Looping a Dictionary"
   ]
  },
  {
   "cell_type": "code",
   "execution_count": 11,
   "metadata": {},
   "outputs": [
    {
     "name": "stdout",
     "output_type": "stream",
     "text": [
      "dict_items([('year', 2018), ('make', 'Chevrolet'), ('model', 'Silverado')])\n",
      "\n",
      " For loop with .items()\n",
      "year 2018\n",
      "make Chevrolet\n",
      "model Silverado\n"
     ]
    }
   ],
   "source": [
    "# .items()  - this creates list of tuples\n",
    "\n",
    "\n",
    "# a, b, c = 1, 2, 3\n",
    "# print(a)\n",
    "# print(b)\n",
    "# print(c)\n",
    "\n",
    "print(truck.items())\n",
    "\n",
    "\n",
    "print('\\n', 'For loop with .items()')\n",
    "for key, value in truck.items():\n",
    "    print(key, value)\n",
    "    \n",
    "# for k, v in dict.items():   - what you will see commonly!"
   ]
  },
  {
   "cell_type": "markdown",
   "metadata": {},
   "source": [
    "##### Looping Only Keys"
   ]
  },
  {
   "cell_type": "code",
   "execution_count": 13,
   "metadata": {},
   "outputs": [
    {
     "name": "stdout",
     "output_type": "stream",
     "text": [
      "dict_keys(['year', 'make', 'model'])\n",
      "<class 'dict_keys'>\n",
      "['year', 'make', 'model']\n",
      "year\n",
      "make\n",
      "model\n"
     ]
    }
   ],
   "source": [
    "# .keys() - this method creates an object that is LIKE but not technically a list\n",
    "\n",
    "print(truck.keys())\n",
    "print(type(truck.keys()))\n",
    "\n",
    "k_list = list(truck.keys())\n",
    "print(k_list)\n",
    "\n",
    "# for x in truck:\n",
    "#     print(x)\n",
    "for x in truck.keys():\n",
    "    print(x)"
   ]
  },
  {
   "cell_type": "markdown",
   "metadata": {},
   "source": [
    "##### Looping Only Values"
   ]
  },
  {
   "cell_type": "code",
   "execution_count": 15,
   "metadata": {},
   "outputs": [
    {
     "name": "stdout",
     "output_type": "stream",
     "text": [
      "2018\n",
      "Chevrolet\n",
      "Silverado\n",
      "<class 'dict_values'> dict_values([2018, 'Chevrolet', 'Silverado'])\n"
     ]
    }
   ],
   "source": [
    "#.values()  -same story- creates a list like object of the values\n",
    "\n",
    "for x in truck.values():\n",
    "    print(x)\n",
    "print(type(truck.values()), truck.values())"
   ]
  },
  {
   "cell_type": "markdown",
   "metadata": {},
   "source": [
    "## In-Class Exercise #2 - Create a Function that Prints All Key Value Pairs within a print .format() <br>\n",
    "<p><b>Output should be:</b><br>\n",
    "Max has blue eyes<br>\n",
    "Lilly has brown eyes<br>\n",
    "Barney has blue eyes<br>\n",
    "etc.\n",
    "</p>"
   ]
  },
  {
   "cell_type": "code",
   "execution_count": 16,
   "metadata": {},
   "outputs": [
    {
     "name": "stdout",
     "output_type": "stream",
     "text": [
      "Max has blue eyes\n",
      "Lilly has brown eyes\n",
      "Barney has blue eyes\n",
      "Larney has brown eyes\n",
      "Ted has purple eyes\n"
     ]
    }
   ],
   "source": [
    "# use the dict below\n",
    "\n",
    "people = {\n",
    "    'Max': 'blue',\n",
    "    'Lilly': 'brown',\n",
    "    'Barney': 'blue',\n",
    "    'Larney': 'brown',\n",
    "    'Ted': 'purple'\n",
    "}\n",
    "\n",
    "def eyes(dic):\n",
    "    for key, value in people.items():\n",
    "        print(f'{key} has {value} eyes')\n",
    "\n",
    "eyes(people)"
   ]
  },
  {
   "cell_type": "markdown",
   "metadata": {},
   "source": [
    "##### sorted()"
   ]
  },
  {
   "cell_type": "code",
   "execution_count": 17,
   "metadata": {},
   "outputs": [
    {
     "name": "stdout",
     "output_type": "stream",
     "text": [
      "[('Barney', 'blue'), ('Larney', 'brown'), ('Lilly', 'brown'), ('Max', 'blue'), ('Ted', 'purple')]\n",
      "['Barney', 'Larney', 'Lilly', 'Max', 'Ted']\n",
      "['blue', 'blue', 'brown', 'brown', 'purple']\n",
      "<class 'list'>\n"
     ]
    }
   ],
   "source": [
    "# sorts variables in order\n",
    "# sorted(dict.values()) or dict.keys() or dict.items()\n",
    "\n",
    "print(sorted(people.items()))\n",
    "print(sorted(people.keys()))\n",
    "print(sorted(people.values()))\n",
    "print(type(sorted(people.values())))"
   ]
  },
  {
   "cell_type": "markdown",
   "metadata": {},
   "source": [
    "##### List with Dictionaries"
   ]
  },
  {
   "cell_type": "code",
   "execution_count": 18,
   "metadata": {},
   "outputs": [
    {
     "name": "stdout",
     "output_type": "stream",
     "text": [
      "['Dave', 'Kurt', 'Eddy', {'rando': 'Lizzy', 'another_rando': 'Jessica'}]\n",
      "{'rando': 'Lizzy', 'another_rando': 'Jessica'}\n",
      "Lizzy\n"
     ]
    }
   ],
   "source": [
    "names = ['Dave', 'Kurt', 'Eddy', {'rando': 'Lizzy', 'another_rando': 'Jessica'}]\n",
    "\n",
    "print(names)\n",
    "print(names[3])\n",
    "print(names[3]['rando'])"
   ]
  },
  {
   "cell_type": "markdown",
   "metadata": {},
   "source": [
    "##### Dictionaries with Lists"
   ]
  },
  {
   "cell_type": "code",
   "execution_count": 19,
   "metadata": {},
   "outputs": [
    {
     "name": "stdout",
     "output_type": "stream",
     "text": [
      "why\n",
      "not\n",
      "3\n",
      "6\n"
     ]
    }
   ],
   "source": [
    "# be careful when using numbers as keys in dictionaries, don't confuse them with indexes\n",
    "rando_data = {\n",
    "    'list1': [345, 6, 56, 98797],\n",
    "    2 : '2nd string',\n",
    "    'list2': ['why', 'not', 3, 6]\n",
    "}\n",
    "\n",
    "for x in rando_data['list2']:\n",
    "    print(x)"
   ]
  },
  {
   "cell_type": "markdown",
   "metadata": {},
   "source": [
    "##### Dictionaries with Dictionaries"
   ]
  },
  {
   "cell_type": "code",
   "execution_count": 20,
   "metadata": {},
   "outputs": [
    {
     "name": "stdout",
     "output_type": "stream",
     "text": [
      "{'ice cream': {'chocolate': 2.99, 'vanilla': 2.99, 'CD': 5.99}}\n",
      "{'chocolate': 2.99, 'vanilla': 2.99, 'CD': 5.99}\n",
      "5.99\n"
     ]
    }
   ],
   "source": [
    "# to get values, must traverse through keys\n",
    "\n",
    "food_dict = {\n",
    "    'ice cream': {\n",
    "        'chocolate': 2.99,\n",
    "        'vanilla': 2.99,\n",
    "        'CD': 5.99\n",
    "    }\n",
    "}\n",
    "\n",
    "print(food_dict, end='\\n')\n",
    "print(food_dict['ice cream'], end='\\n')\n",
    "print(food_dict['ice cream']['CD'])"
   ]
  },
  {
   "cell_type": "markdown",
   "metadata": {},
   "source": [
    "## Dictionaries vs. Lists (over time) Example of RUNTIME\n",
    "### When inputting values in a Dictionary vs List"
   ]
  },
  {
   "cell_type": "code",
   "execution_count": 2,
   "metadata": {},
   "outputs": [],
   "source": [
    "import time\n",
    "\n",
    "\n",
    "# generate fake dictionary\n",
    "d = {}\n",
    "\n",
    "for i in range(10000000):\n",
    "    d[i] = 'value'\n",
    "    \n",
    "\n",
    "# generate fake list\n",
    "big_list = [x for x in range(10000000)]"
   ]
  },
  {
   "cell_type": "code",
   "execution_count": 3,
   "metadata": {},
   "outputs": [
    {
     "name": "stdout",
     "output_type": "stream",
     "text": [
      "True\n",
      "Elapsed time for dictionary: 0.0\n",
      "True\n",
      "Elapsed time for list: 0.11137604713439941\n"
     ]
    }
   ],
   "source": [
    "# tracking time for dictionary\n",
    "start_time = time.time()\n",
    "\n",
    "print(9999999 in d)\n",
    "\n",
    "end_time = time.time() - start_time\n",
    "\n",
    "print('Elapsed time for dictionary: {}'.format(end_time))\n",
    "\n",
    "\n",
    "# tracking time for list\n",
    "start_time = time.time()\n",
    "\n",
    "\n",
    "print(9999999 in big_list)\n",
    "# for i in range(len(big_list)):\n",
    "#     if i == 9999999:\n",
    "#         print(i)\n",
    "\n",
    "end_time = time.time() - start_time\n",
    "\n",
    "print('Elapsed time for list: {}'.format(end_time))"
   ]
  },
  {
   "cell_type": "markdown",
   "metadata": {},
   "source": [
    "## Exercise #3 - Write a Function that asks someone's name and address, and then stores that into a dictionary, and continues to do so until they choose to 'quit'. Once they quit, the program should print all names and addresses. <br>\n",
    "<p>\n",
    "<b>Proper steps:</b><br>\n",
    "step 1: write a function that takes in information and stores it in a dictionary<br>\n",
    "step 2: define an empty dictionary to work with<br>\n",
    "step 3: create our loop, which asks the user for information until they quit<br>\n",
    "step 4: ask for the information, and store it into variables<br>\n",
    "step 5: check if the user types quit<br>\n",
    "step 5a: print out all information<br>\n",
    "step 5b: break out of the loop<br>\n",
    "step 6: if they didn't quit, add the information to the dictionary<br>\n",
    "step 7: invoke the function by calling it\n",
    "</p>"
   ]
  },
  {
   "cell_type": "code",
   "execution_count": 5,
   "metadata": {},
   "outputs": [
    {
     "name": "stdout",
     "output_type": "stream",
     "text": [
      "What is your name?: lexter\n",
      "What is your address?: 515 via\n",
      "What is your name?: lexter\n"
     ]
    },
    {
     "ename": "KeyboardInterrupt",
     "evalue": "Interrupted by user",
     "output_type": "error",
     "traceback": [
      "\u001b[1;31m---------------------------------------------------------------------------\u001b[0m",
      "\u001b[1;31mKeyboardInterrupt\u001b[0m                         Traceback (most recent call last)",
      "\u001b[1;32m~\\AppData\\Local\\Temp\\ipykernel_29008\\1463179652.py\u001b[0m in \u001b[0;36m<module>\u001b[1;34m\u001b[0m\n\u001b[0;32m     15\u001b[0m \u001b[1;33m\u001b[0m\u001b[0m\n\u001b[0;32m     16\u001b[0m \u001b[1;33m\u001b[0m\u001b[0m\n\u001b[1;32m---> 17\u001b[1;33m \u001b[0minfo\u001b[0m\u001b[1;33m(\u001b[0m\u001b[1;33m)\u001b[0m \u001b[1;31m# calling function\u001b[0m\u001b[1;33m\u001b[0m\u001b[1;33m\u001b[0m\u001b[0m\n\u001b[0m",
      "\u001b[1;32m~\\AppData\\Local\\Temp\\ipykernel_29008\\1463179652.py\u001b[0m in \u001b[0;36minfo\u001b[1;34m()\u001b[0m\n\u001b[0;32m      8\u001b[0m             \u001b[0mprint\u001b[0m\u001b[1;33m(\u001b[0m\u001b[0ml_1\u001b[0m\u001b[1;33m)\u001b[0m \u001b[1;31m# print dictionary\u001b[0m\u001b[1;33m\u001b[0m\u001b[1;33m\u001b[0m\u001b[0m\n\u001b[0;32m      9\u001b[0m             \u001b[1;32mbreak\u001b[0m\u001b[1;33m\u001b[0m\u001b[1;33m\u001b[0m\u001b[0m\n\u001b[1;32m---> 10\u001b[1;33m         \u001b[0maddress\u001b[0m \u001b[1;33m=\u001b[0m \u001b[0minput\u001b[0m\u001b[1;33m(\u001b[0m\u001b[1;34m\"What is your address?: \"\u001b[0m\u001b[1;33m)\u001b[0m \u001b[1;31m# taking in address input\u001b[0m\u001b[1;33m\u001b[0m\u001b[1;33m\u001b[0m\u001b[0m\n\u001b[0m\u001b[0;32m     11\u001b[0m         \u001b[1;32mif\u001b[0m \u001b[0maddress\u001b[0m \u001b[1;33m==\u001b[0m \u001b[1;34m'quit'\u001b[0m\u001b[1;33m:\u001b[0m \u001b[1;31m# break parameter\u001b[0m\u001b[1;33m\u001b[0m\u001b[1;33m\u001b[0m\u001b[0m\n\u001b[0;32m     12\u001b[0m             \u001b[0mprint\u001b[0m\u001b[1;33m(\u001b[0m\u001b[0ml_1\u001b[0m\u001b[1;33m)\u001b[0m \u001b[1;31m# print dictionary\u001b[0m\u001b[1;33m\u001b[0m\u001b[1;33m\u001b[0m\u001b[0m\n",
      "\u001b[1;32m~\\anaconda3\\lib\\site-packages\\ipykernel\\kernelbase.py\u001b[0m in \u001b[0;36mraw_input\u001b[1;34m(self, prompt)\u001b[0m\n\u001b[0;32m   1175\u001b[0m                 \u001b[1;34m\"raw_input was called, but this frontend does not support input requests.\"\u001b[0m\u001b[1;33m\u001b[0m\u001b[1;33m\u001b[0m\u001b[0m\n\u001b[0;32m   1176\u001b[0m             )\n\u001b[1;32m-> 1177\u001b[1;33m         return self._input_request(\n\u001b[0m\u001b[0;32m   1178\u001b[0m             \u001b[0mstr\u001b[0m\u001b[1;33m(\u001b[0m\u001b[0mprompt\u001b[0m\u001b[1;33m)\u001b[0m\u001b[1;33m,\u001b[0m\u001b[1;33m\u001b[0m\u001b[1;33m\u001b[0m\u001b[0m\n\u001b[0;32m   1179\u001b[0m             \u001b[0mself\u001b[0m\u001b[1;33m.\u001b[0m\u001b[0m_parent_ident\u001b[0m\u001b[1;33m[\u001b[0m\u001b[1;34m\"shell\"\u001b[0m\u001b[1;33m]\u001b[0m\u001b[1;33m,\u001b[0m\u001b[1;33m\u001b[0m\u001b[1;33m\u001b[0m\u001b[0m\n",
      "\u001b[1;32m~\\anaconda3\\lib\\site-packages\\ipykernel\\kernelbase.py\u001b[0m in \u001b[0;36m_input_request\u001b[1;34m(self, prompt, ident, parent, password)\u001b[0m\n\u001b[0;32m   1217\u001b[0m             \u001b[1;32mexcept\u001b[0m \u001b[0mKeyboardInterrupt\u001b[0m\u001b[1;33m:\u001b[0m\u001b[1;33m\u001b[0m\u001b[1;33m\u001b[0m\u001b[0m\n\u001b[0;32m   1218\u001b[0m                 \u001b[1;31m# re-raise KeyboardInterrupt, to truncate traceback\u001b[0m\u001b[1;33m\u001b[0m\u001b[1;33m\u001b[0m\u001b[0m\n\u001b[1;32m-> 1219\u001b[1;33m                 \u001b[1;32mraise\u001b[0m \u001b[0mKeyboardInterrupt\u001b[0m\u001b[1;33m(\u001b[0m\u001b[1;34m\"Interrupted by user\"\u001b[0m\u001b[1;33m)\u001b[0m \u001b[1;32mfrom\u001b[0m \u001b[1;32mNone\u001b[0m\u001b[1;33m\u001b[0m\u001b[1;33m\u001b[0m\u001b[0m\n\u001b[0m\u001b[0;32m   1220\u001b[0m             \u001b[1;32mexcept\u001b[0m \u001b[0mException\u001b[0m\u001b[1;33m:\u001b[0m\u001b[1;33m\u001b[0m\u001b[1;33m\u001b[0m\u001b[0m\n\u001b[0;32m   1221\u001b[0m                 \u001b[0mself\u001b[0m\u001b[1;33m.\u001b[0m\u001b[0mlog\u001b[0m\u001b[1;33m.\u001b[0m\u001b[0mwarning\u001b[0m\u001b[1;33m(\u001b[0m\u001b[1;34m\"Invalid Message:\"\u001b[0m\u001b[1;33m,\u001b[0m \u001b[0mexc_info\u001b[0m\u001b[1;33m=\u001b[0m\u001b[1;32mTrue\u001b[0m\u001b[1;33m)\u001b[0m\u001b[1;33m\u001b[0m\u001b[1;33m\u001b[0m\u001b[0m\n",
      "\u001b[1;31mKeyboardInterrupt\u001b[0m: Interrupted by user"
     ]
    }
   ],
   "source": [
    "from IPython.display import clear_output\n",
    "\n",
    "def info(): #function\n",
    "    l_1 = {} # empty dictionary\n",
    "    while True: \n",
    "        key = input(\"What is your name?: \") # taking in name input\n",
    "        if key == 'quit': # break parameter\n",
    "            print(l_1) # print dictionary\n",
    "            break\n",
    "        address = input(\"What is your address?: \") # taking in address input\n",
    "        if address == 'quit': # break parameter\n",
    "            print(l_1) # print dictionary\n",
    "            break\n",
    "        l_1[(key)] = str(address) # adding inputs into dictionary\n",
    "        \n",
    "            \n",
    "info() # calling function"
   ]
  },
  {
   "cell_type": "markdown",
   "metadata": {},
   "source": [
    "## Set <br>\n",
    "<p>A Set is an unordered collection data type that is iterable (loop), mutable, and has no duplicate elements.<br>Major advantage is that it is highly optimized in checking if something is in the set, as opposed to checking if something is in a list.</p>"
   ]
  },
  {
   "cell_type": "markdown",
   "metadata": {},
   "source": [
    "##### Declaring"
   ]
  },
  {
   "cell_type": "code",
   "execution_count": 26,
   "metadata": {},
   "outputs": [
    {
     "name": "stdout",
     "output_type": "stream",
     "text": [
      "{1, 2, 3, 4}\n",
      "set()\n"
     ]
    }
   ],
   "source": [
    "# set() or {}\n",
    "# no order {3, 2, 1} outputs as {1, 2, 3}\n",
    "\n",
    "s1 = {1, 2, 3, 4, 4, 4, 4, 4, }\n",
    "s2 = set()\n",
    "\n",
    "print(s1)\n",
    "print(s2)"
   ]
  },
  {
   "cell_type": "markdown",
   "metadata": {},
   "source": [
    "##### .add()"
   ]
  },
  {
   "cell_type": "code",
   "execution_count": 27,
   "metadata": {},
   "outputs": [
    {
     "name": "stdout",
     "output_type": "stream",
     "text": [
      "{545, 98, 78, 54, 216}\n"
     ]
    }
   ],
   "source": [
    "# set.add()\n",
    "s2.add(54)\n",
    "s2.add(78)\n",
    "s2.add(98)\n",
    "s2.add(216)\n",
    "s2.add(545)\n",
    "print(s2)"
   ]
  },
  {
   "cell_type": "markdown",
   "metadata": {},
   "source": [
    "##### .remove()"
   ]
  },
  {
   "cell_type": "code",
   "execution_count": 28,
   "metadata": {},
   "outputs": [
    {
     "name": "stdout",
     "output_type": "stream",
     "text": [
      "{3, 4, 5, 6}\n",
      "{1, 2, 3, 4}\n"
     ]
    }
   ],
   "source": [
    "# # removes by value\n",
    "# # set.remove()\n",
    "# s2.remove(216)\n",
    "# s2.remove(545)\n",
    "# print(s2)\n",
    "s3 = {3, 4, 5, 6}\n",
    "print(s3)\n",
    "print(s1)"
   ]
  },
  {
   "cell_type": "markdown",
   "metadata": {},
   "source": [
    "##### .union() "
   ]
  },
  {
   "cell_type": "code",
   "execution_count": 29,
   "metadata": {},
   "outputs": [
    {
     "name": "stdout",
     "output_type": "stream",
     "text": [
      "{1, 2, 3, 4, 5, 6}\n",
      "{1, 2, 3, 4, 5, 6}\n",
      "\n",
      " {1, 2, 3, 4} {3, 4, 5, 6}\n"
     ]
    }
   ],
   "source": [
    "# Returns a union of two sets, can also use '|' or set.union(set)\n",
    "# joins all numbers, gets rid of duplicates\n",
    "s_u = s3.union(s1)\n",
    "print(s_u)\n",
    "\n",
    "s_u2 = s3 | s1\n",
    "print(s_u2)\n",
    "print('\\n', s1, s3)"
   ]
  },
  {
   "cell_type": "markdown",
   "metadata": {},
   "source": [
    "##### .intersection()"
   ]
  },
  {
   "cell_type": "code",
   "execution_count": 30,
   "metadata": {},
   "outputs": [
    {
     "name": "stdout",
     "output_type": "stream",
     "text": [
      "{3, 4}\n",
      "{3, 4}\n"
     ]
    }
   ],
   "source": [
    "# Returns an intersection of two sets, can also use '&'\n",
    "# only takes similar elements from both sets\n",
    "s_int = s1.intersection(s3)\n",
    "print(s_int)\n",
    "s_int2 = s3 & s1\n",
    "print(s_int2)"
   ]
  },
  {
   "cell_type": "markdown",
   "metadata": {},
   "source": [
    "##### .difference()"
   ]
  },
  {
   "cell_type": "code",
   "execution_count": 31,
   "metadata": {},
   "outputs": [
    {
     "name": "stdout",
     "output_type": "stream",
     "text": [
      "{5, 6}\n",
      "{1, 2}\n",
      "{5, 6}\n"
     ]
    }
   ],
   "source": [
    "# Returns a set containing all the elements of invoking set that are not in the second set, can also use '-'\n",
    "# only takes values from the first set that are not in the second set\n",
    "# order matters\n",
    "s_diff = s3 - s1\n",
    "s_diff2 = s1 - s3\n",
    "print(s_diff)\n",
    "print(s_diff2)\n",
    "\n",
    "d_diff3 = s3.difference(s1)\n",
    "print(d_diff3)"
   ]
  },
  {
   "cell_type": "markdown",
   "metadata": {},
   "source": [
    "##### .clear()"
   ]
  },
  {
   "cell_type": "code",
   "execution_count": 32,
   "metadata": {},
   "outputs": [
    {
     "name": "stdout",
     "output_type": "stream",
     "text": [
      "{5, 6}\n",
      "set()\n"
     ]
    }
   ],
   "source": [
    "# Empties the whole set\n",
    "# set.clear()\n",
    "\n",
    "print(d_diff3)\n",
    "d_diff3.clear()\n",
    "print(d_diff3)"
   ]
  },
  {
   "cell_type": "markdown",
   "metadata": {},
   "source": [
    "##### Frozenset <br>\n",
    "<p>Frozen sets are immutable objects that only support methods and operators that produce a result without affecting the frozen set or sets to which they are applied.</p><br><b>Unique & Immutable</b>"
   ]
  },
  {
   "cell_type": "code",
   "execution_count": 33,
   "metadata": {},
   "outputs": [
    {
     "name": "stdout",
     "output_type": "stream",
     "text": [
      "frozenset({5, 6})\n",
      "frozenset({5, 6})\n"
     ]
    }
   ],
   "source": [
    "# frozenset([])\n",
    "\n",
    "my_frozen_set = frozenset(s_diff)\n",
    "\n",
    "print(my_frozen_set)\n",
    "\n",
    "# my_frozen_set.add(4564) Can't do this!!!\n",
    "my_frozen_set.union(s1)\n",
    "print(my_frozen_set)"
   ]
  },
  {
   "cell_type": "markdown",
   "metadata": {},
   "source": [
    "## Modules"
   ]
  },
  {
   "cell_type": "markdown",
   "metadata": {},
   "source": [
    "##### Importing Entire Modules"
   ]
  },
  {
   "cell_type": "code",
   "execution_count": 34,
   "metadata": {},
   "outputs": [
    {
     "name": "stdout",
     "output_type": "stream",
     "text": [
      "3.141592653589793\n",
      "4\n",
      "3\n",
      "4\n"
     ]
    }
   ],
   "source": [
    "# import or from 'xxx' import *\n",
    "import math\n",
    "\n",
    "print(math.pi)\n",
    "print(math.floor(4.55))\n",
    "print(math.floor(math.pi))\n",
    "print(math.ceil(math.pi))"
   ]
  },
  {
   "cell_type": "markdown",
   "metadata": {},
   "source": [
    "##### Importing Methods Only"
   ]
  },
  {
   "cell_type": "code",
   "execution_count": 35,
   "metadata": {},
   "outputs": [
    {
     "name": "stdout",
     "output_type": "stream",
     "text": [
      "3.141592653589793\n",
      "3\n"
     ]
    }
   ],
   "source": [
    "# from 'xxx' import 'xxx'\n",
    "from math import floor, pi\n",
    "\n",
    "print(pi)\n",
    "print(floor(pi))"
   ]
  },
  {
   "cell_type": "markdown",
   "metadata": {},
   "source": [
    "##### Using the 'as' Keyword"
   ]
  },
  {
   "cell_type": "code",
   "execution_count": 36,
   "metadata": {},
   "outputs": [
    {
     "name": "stdout",
     "output_type": "stream",
     "text": [
      "3.141592653589793\n",
      "3\n"
     ]
    }
   ],
   "source": [
    "# from 'xxx' import 'xxx' as 'xxx' or import 'xxx' as 'xxx'\n",
    "from math import floor as f, pi as p\n",
    "\n",
    "print(p)\n",
    "print(f(p))"
   ]
  },
  {
   "cell_type": "markdown",
   "metadata": {},
   "source": [
    "##### Creating a Module"
   ]
  },
  {
   "cell_type": "code",
   "execution_count": 37,
   "metadata": {},
   "outputs": [
    {
     "ename": "ModuleNotFoundError",
     "evalue": "No module named 'brandt_module'",
     "output_type": "error",
     "traceback": [
      "\u001b[1;31m---------------------------------------------------------------------------\u001b[0m",
      "\u001b[1;31mModuleNotFoundError\u001b[0m                       Traceback (most recent call last)",
      "\u001b[1;32m~\\AppData\\Local\\Temp\\ipykernel_7144\\554149035.py\u001b[0m in \u001b[0;36m<module>\u001b[1;34m\u001b[0m\n\u001b[1;32m----> 1\u001b[1;33m \u001b[1;32mimport\u001b[0m \u001b[0mbrandt_module\u001b[0m\u001b[1;33m\u001b[0m\u001b[1;33m\u001b[0m\u001b[0m\n\u001b[0m\u001b[0;32m      2\u001b[0m \u001b[1;33m\u001b[0m\u001b[0m\n\u001b[0;32m      3\u001b[0m \u001b[0mprint\u001b[0m\u001b[1;33m(\u001b[0m\u001b[0mbrandt_module\u001b[0m\u001b[1;33m.\u001b[0m\u001b[0mme\u001b[0m\u001b[1;33m(\u001b[0m\u001b[1;33m)\u001b[0m\u001b[1;33m)\u001b[0m\u001b[1;33m\u001b[0m\u001b[1;33m\u001b[0m\u001b[0m\n\u001b[0;32m      4\u001b[0m \u001b[1;33m\u001b[0m\u001b[0m\n\u001b[0;32m      5\u001b[0m \u001b[1;32mfrom\u001b[0m \u001b[0mbrandt_module\u001b[0m \u001b[1;32mimport\u001b[0m \u001b[0mme\u001b[0m \u001b[1;32mas\u001b[0m \u001b[0mm\u001b[0m\u001b[1;33m,\u001b[0m \u001b[0mget2\u001b[0m \u001b[1;32mas\u001b[0m \u001b[0mg\u001b[0m\u001b[1;33m\u001b[0m\u001b[1;33m\u001b[0m\u001b[0m\n",
      "\u001b[1;31mModuleNotFoundError\u001b[0m: No module named 'brandt_module'"
     ]
    }
   ],
   "source": [
    "import brandt_module\n",
    "\n",
    "print(brandt_module.me())\n",
    "\n",
    "from brandt_module import me as m, get2 as g\n",
    "\n",
    "print(m())\n",
    "print(g())"
   ]
  },
  {
   "cell_type": "markdown",
   "metadata": {},
   "source": [
    "# Exercises"
   ]
  },
  {
   "cell_type": "markdown",
   "metadata": {},
   "source": [
    "### 1) Build a Shopping Cart <br>\n",
    "<p><b>You can use either lists or dictionaries. The program should have the following capabilities:</b><br><br>\n",
    "1) Takes in input <br>\n",
    "2) Stores user input into a dictionary or list <br>\n",
    "3) The User can add or delete items <br>\n",
    "4) The User can see current shopping list <br>\n",
    "5) The program Loops until user 'quits' <br>\n",
    "6) Upon quiting the program, print out all items in the user's list <br>\n",
    "</p>"
   ]
  },
  {
   "cell_type": "code",
   "execution_count": 33,
   "metadata": {},
   "outputs": [
    {
     "name": "stdout",
     "output_type": "stream",
     "text": [
      "Would you like to Show, Add, Delete, or Quit?Add\n",
      "What should we pick up at the store?egg\n",
      "egg was added to your shopping list!\n",
      "You have 10 items on your list.\n",
      "Would you like to Show, Add, Delete, or Quit?milk\n",
      "Would you like to Show, Add, Delete, or Quit?Add\n",
      "What should we pick up at the store?milk\n",
      "milk was added to your shopping list!\n",
      "You have 10 items on your list.\n",
      "Would you like to Show, Add, Delete, or Quit?Show\n",
      "My Shopping List:\n",
      "egg\n",
      "milk\n",
      "Would you like to Show, Add, Delete, or Quit?Quit\n"
     ]
    }
   ],
   "source": [
    "from IPython.display import clear_output\n",
    "\n",
    "# Ask the user four bits of input: Do you want to : Show/Add/Delete or Quit?\n",
    "shopping_cart= []\n",
    "\n",
    "# Create a function that adds an item to the list\n",
    "def add_to_list():\n",
    "    item = input('What should we pick up at the store?')\n",
    "    shopping_cart.append(item)\n",
    "    print('{} was added to your shopping list!'.format(item))\n",
    "    print('You have {} items on your list.'.format(len(shopping_list)))\n",
    "\n",
    "def show_list():\n",
    "    print('My Shopping List:')\n",
    "    for item in shopping_cart:\n",
    "        print(item)\n",
    "\n",
    "\n",
    "def groceries():\n",
    "   \n",
    "    while True:\n",
    "        \n",
    "        new_item = input('Would you like to Show, Add, Delete, or Quit?')\n",
    "\n",
    "        if new_item == 'Quit':\n",
    "            break\n",
    "        elif new_item == 'Show':\n",
    "            show_list()\n",
    "            continue\n",
    "        elif new_item == 'Add':\n",
    "            add_to_list()\n",
    "        elif new_item == 'Delete':\n",
    "            item= input('What item do you want to remove?')\n",
    "            shopping_cart.remove(item)\n",
    "groceries()"
   ]
  },
  {
   "cell_type": "markdown",
   "metadata": {},
   "source": [
    "### 2) Create a Module in VS Code and Import It into jupyter notebook <br>\n",
    "<p><b>Module should have the following capabilities:</b><br><br>\n",
    "1) Has a function to calculate the square footage of a house <br>\n",
    "    <b>Reminder of Formula: Length X Width == Area<br>\n",
    "        <hr>\n",
    "2) Has a function to calculate the circumference of a circle <br><br>\n",
    "<b>Program in Jupyter Notebook should take in user input and use imported functions to calculate a circle's circumference or a houses square footage</b>\n",
    "</p>"
   ]
  },
  {
   "cell_type": "code",
   "execution_count": null,
   "metadata": {
    "scrolled": true
   },
   "outputs": [
    {
     "name": "stdout",
     "output_type": "stream",
     "text": [
      "Enter width of exterior wall(in feet): 51\n",
      "Enter length of exterior wall(in feet): 55\n",
      "Room Description                    Area\n",
      "living room                         2805\n"
     ]
    }
   ],
   "source": [
    "#1)\n",
    "\n",
    "def Area(length,width):\n",
    "    return length*width\n",
    "\n",
    "while(i==0):\n",
    "  \n",
    "    width = int(input(\"Enter width of exterior wall(in feet): \"))\n",
    "    length = int(input(\"Enter length of exterior wall(in feet): \"))\n",
    " \n",
    "    area = Area(length,width)\n",
    " \n",
    "    TotalArea = TotalArea + area\n",
    "\n",
    "    Display(description,area)\n",
    "\n",
    "    x = int(input(\"Enter 1 To Exit And Display Total Area: \"))\n",
    " \n",
    "    if(x == 1):\n",
    "        break;\n",
    "\n",
    "print(\"Total Area = \",TotalArea,\" square feets.\")"
   ]
  },
  {
   "cell_type": "code",
   "execution_count": null,
   "metadata": {},
   "outputs": [],
   "source": [
    "#2)\n",
    "\n",
    "from math import pi\n",
    " \n",
    "r = float(input (\"Input the radius of the circle : \"))\n",
    " \n",
    "calculateArea = str(pi * r**2);\n",
    " \n",
    "print (\"The area of the circle with radius \" + str(r) + \" is: \" + calculateArea)\n"
   ]
  }
 ],
 "metadata": {
  "kernelspec": {
   "display_name": "Python 3 (ipykernel)",
   "language": "python",
   "name": "python3"
  },
  "language_info": {
   "codemirror_mode": {
    "name": "ipython",
    "version": 3
   },
   "file_extension": ".py",
   "mimetype": "text/x-python",
   "name": "python",
   "nbconvert_exporter": "python",
   "pygments_lexer": "ipython3",
   "version": "3.9.13"
  }
 },
 "nbformat": 4,
 "nbformat_minor": 2
}
